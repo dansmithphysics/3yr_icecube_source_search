{
 "cells": [
  {
   "cell_type": "markdown",
   "id": "53c5dc7c-e8be-4ca9-8577-2057dcd49a9c",
   "metadata": {},
   "source": [
    "The following is a simple script that performs an astrophysical neutrino source class search using three years worth of publicly available IceCube muon track data and the 4LAC catalog from the Fermi satellite, a catalog of gamma-ray active galactic nuclei in the universe detected by the satellite. \n",
    "\n",
    "-For points in the sky in a pre-determined grid, the script finds the best-fit value of number of neutrinos from a source if a source existed at that given point. If there are any real sources in the set, they would have a best-fit likelihood that would deviate from the background / normal distribution.-\n",
    "\n",
    "First, we load common libraries and `IceCubeAnalysis`, a custom library with two classes, the first (`SourceSearch`) that handle the creation of the neutrino source likelihood function given a source location to test and the second (`SourceClassSearch`) that handles the loading of 4LAC sources. "
   ]
  },
  {
   "cell_type": "code",
   "execution_count": 1,
   "id": "ef960e3e-ff3f-48f8-a2cc-05deae6d2981",
   "metadata": {},
   "outputs": [],
   "source": [
    "import numpy as np\n",
    "import matplotlib.pyplot as plt\n",
    "import IceCubeAnalysis"
   ]
  },
  {
   "cell_type": "markdown",
   "id": "ea89ecb0-55fd-413d-9e46-f1bca928c9ca",
   "metadata": {},
   "source": [
    "Now that we know all the points on the sky, we create a new `SourceSearch` instance and load the pre-processed muon track data and background PDF."
   ]
  },
  {
   "cell_type": "code",
   "execution_count": 2,
   "id": "b4d320c1-b671-4e4a-9e42-fc2dc4e649b0",
   "metadata": {},
   "outputs": [],
   "source": [
    "sourcesearch_ = IceCubeAnalysis.SourceSearch(\"./processed_data/output_icecube_data.npz\")\n",
    "sourcesearch_.load_background(\"./processed_data/output_icecube_background_count.npz\")"
   ]
  },
  {
   "cell_type": "markdown",
   "id": "5416a6a7-bbe3-4b37-8407-acf593d2e7ca",
   "metadata": {
    "tags": []
   },
   "source": [
    "We need to define some parameters of the analysis, including the time of the analysis (`T`), energy bands of interest for plotting (`E1` and `E2`), the power spetrum of the neutrino flux (`alpha`), how to weight each source (`weights_type`), and the source class names of interest (`source_class_names`). "
   ]
  },
  {
   "cell_type": "code",
   "execution_count": 3,
   "id": "af642be9-b90f-4232-bee1-292c077c32d5",
   "metadata": {},
   "outputs": [],
   "source": [
    "T = (3.0 * 365.25 * 24.0 * 3600.0)\n",
    "E1 = 100.0\n",
    "E2 = 30.0\n",
    "alpha = 2.0\n",
    "weights_type = 'flat'\n",
    "source_class_names = ['FSRQ', 'fsrq']"
   ]
  },
  {
   "cell_type": "markdown",
   "id": "0ec66210-6f07-4a6e-aecb-7ef0ec003022",
   "metadata": {},
   "source": [
    "Next we load up the source class information, defined in `IceCubeAnalysis`, `SourceClassSearch`, using the 4LAC catalog pre-processed in `./processed_data/4LAC_catelogy.npz`. "
   ]
  },
  {
   "cell_type": "code",
   "execution_count": 4,
   "id": "25c6db4b-28f6-4b1e-b1e4-5e4f2c649e6b",
   "metadata": {},
   "outputs": [
    {
     "name": "stdout",
     "output_type": "stream",
     "text": [
      "Number of Sources:\t 658\n",
      "Number of Events:\t 334677\n"
     ]
    }
   ],
   "source": [
    "Aeff_filename = \"processed_data/output_icecube_AffIntegrated_%s.npz\" % alpha\n",
    "class_search = IceCubeAnalysis.SourceClassSearch(T, E1, E2, alpha, sourcesearch_, Aeff_filename)\n",
    "    \n",
    "class_search.load_4lac(\"./processed_data/4LAC_catelogy.npz\", source_class_names, weights_type)\n",
    "    \n",
    "print(\"Number of Sources:\\t %i\" % class_search.N)\n",
    "print(\"Number of Events:\\t %i\" % sourcesearch_.N)"
   ]
  },
  {
   "cell_type": "markdown",
   "id": "33dbbf05-de77-4bfc-bcca-16d824cd3623",
   "metadata": {},
   "source": [
    "Since it is computationally intensive to run the source search, I parallelize the computation. For overhead purposes, it is more efficient to run the scan over flux for each individual source per job and then combine them in post-processing. The `SourceClassSearch` instance performs the sweep on each individual source in the class using the function `source_loop` which accepts the integer of the source of interest. "
   ]
  },
  {
   "cell_type": "code",
   "execution_count": 5,
   "id": "1ffe32c6-5543-4cd7-b600-9fd3410cc96e",
   "metadata": {},
   "outputs": [
    {
     "name": "stdout",
     "output_type": "stream",
     "text": [
      "Using parallel, time passed was: \t 4.886710\n"
     ]
    }
   ],
   "source": [
    "import time\n",
    "from multiprocessing import Pool\n",
    "n_cpu = 4\n",
    "\n",
    "start_time = time.time()                        \n",
    "pool = Pool(n_cpu)\n",
    "parallel_results = pool.map(class_search.source_loop, np.arange(class_search.N))\n",
    "pool.close()\n",
    "end_time = time.time()\n",
    "print(\"Using parallel, time passed was: \\t %f\" % (end_time - start_time))"
   ]
  },
  {
   "cell_type": "markdown",
   "id": "ceeb960a-8036-440f-b781-fa292a53845b",
   "metadata": {},
   "source": [
    "With the big computing done, the result is saved into `parallel_results`. The post processing to combine each source into one likelihood vs. flux measurement is below. "
   ]
  },
  {
   "cell_type": "code",
   "execution_count": 6,
   "id": "0ddff12e-315a-441b-b012-cedfe38b098b",
   "metadata": {},
   "outputs": [],
   "source": [
    "\n",
    "parallel_results = [list(t) for t in zip(*parallel_results)]\n",
    "\n",
    "sweep_ts_each_source = np.stack(parallel_results[1], axis=1)\n",
    "sweep_ts = np.sum(parallel_results[1], axis=0)\n",
    "sweep_flux = np.sum(parallel_results[0], axis=0)\n",
    "\n",
    "sweep_flux *= 1000.0 # convert TeV to GeV"
   ]
  },
  {
   "cell_type": "markdown",
   "id": "e6148a1b-5f00-4114-98e2-ed7fc0a0502d",
   "metadata": {},
   "source": [
    "And now a plot of the results. "
   ]
  },
  {
   "cell_type": "code",
   "execution_count": 7,
   "id": "e5d8d3bb-a393-469b-b999-353a84b00a5c",
   "metadata": {},
   "outputs": [
    {
     "data": {
      "text/plain": [
       "<matplotlib.legend.Legend at 0x11d42afa0>"
      ]
     },
     "execution_count": 7,
     "metadata": {},
     "output_type": "execute_result"
    },
    {
     "data": {
      "image/png": "[encoded data removed]",
      "text/plain": [
       "<Figure size 360x288 with 1 Axes>"
      ]
     },
     "metadata": {
      "needs_background": "light"
     },
     "output_type": "display_data"
    }
   ],
   "source": [
    "plt.figure(figsize=(5, 4))\n",
    "plt.semilogx(np.array(sweep_flux)[sweep_ts < 1e3],\n",
    "             sweep_ts[sweep_ts < 1e3],\n",
    "             linestyle='-',\n",
    "             color='black',\n",
    "             label=source_class_names)\n",
    "\n",
    "plt.axhline(-3.85,\n",
    "            color=\"red\",\n",
    "            linestyle=\"-.\",\n",
    "            label=\"95% CL\")\n",
    "            \n",
    "plt.xlabel(r\"$E^2_\\nu dN_\\nu/dE_\\nu$ [GeV / cm$^2$ / s / sr] at 30 TeV\")\n",
    "plt.ylabel(\"$2 \\Delta \\ln \\mathcal{L}$\")\n",
    "plt.xlim(5e-10, 5e-7)\n",
    "plt.ylim(-10.0, 4.0)\n",
    "plt.grid()\n",
    "plt.legend()"
   ]
  }
 ],
 "metadata": {
  "kernelspec": {
   "display_name": "Python 3 (ipykernel)",
   "language": "python",
   "name": "python3"
  },
  "language_info": {
   "codemirror_mode": {
    "name": "ipython",
    "version": 3
   },
   "file_extension": ".py",
   "mimetype": "text/x-python",
   "name": "python",
   "nbconvert_exporter": "python",
   "pygments_lexer": "ipython3",
   "version": "3.9.2"
  }
 },
 "nbformat": 4,
 "nbformat_minor": 5
}
