{
 "cells": [
  {
   "cell_type": "markdown",
   "id": "e8d92389-241f-4fa1-a6a9-0aa6e2a8b899",
   "metadata": {},
   "source": [
    "The following is some of the equations used in neutrino search paper. More description is available in the paper. \n",
    "\n",
    "Following the notation from [here](https://arxiv.org/pdf/1406.6757.pdf), the likelihood that $n_s$ neutrinos in the data originate from a sources being considered is equal to,\n",
    "\n",
    "$$\n",
    "\\mathcal{L}(n_s) = \\prod_i \\left(\\frac{n_S}{N} S(|\\vec{x}_x - \\vec{x}_i|) + \\left(1 + \\frac{n_s}{N}\\right) B(\\sin \\delta_i)\\right),\n",
    "$$\n",
    "\n",
    "where $S$ and $B$ are the signal and background probability density functions of the data set."
   ]
  },
  {
   "cell_type": "markdown",
   "id": "29c012f3-c0e9-40b1-b084-7737d6627123",
   "metadata": {},
   "source": [
    "The signal PDF for a given event in IceCube is equal to,\n",
    "\n",
    "$$\n",
    "S(|\\vec{x}_x - \\vec{x}_i|) = S_i = \\frac{1}{2\\pi\\sigma_i^2} e^{-|\\vec{x}_x - \\vec{x}_i|^2 / (2 \\sigma_i^2)}.\n",
    "$$"
   ]
  },
  {
   "cell_type": "markdown",
   "id": "3899307b-c682-44f5-8d67-2fbc8ba0783f",
   "metadata": {},
   "source": [
    "and the background PDF is equal to,\n",
    "\n",
    "$$\n",
    "B(\\sin \\delta_i) = B_i = \\frac{\\mathcal{P}(\\sin \\delta_i)}{2\\pi},\n",
    "$$\n",
    "\n",
    "which is calculated empirically by smearing the data in RA in $6^\\circ$ bands of declination. "
   ]
  },
  {
   "cell_type": "markdown",
   "id": "9a734135-fde3-491b-bfef-808b73971a30",
   "metadata": {},
   "source": [
    "For ease, we develop the test statistic, equal to:\n",
    "\n",
    "$$\n",
    "2 \\Delta \\mathcal{L}(n_s) = 2 \\left[\\ln \\mathcal{L}(n_s) - \\ln \\mathcal{L}(0)\\right].\n",
    "$$"
   ]
  },
  {
   "cell_type": "markdown",
   "id": "c16a4f48-f35f-48e2-b91d-f6aec3b4254a",
   "metadata": {},
   "source": [
    "The neutrino flux can be related to an energy spectrum $\\alpha$ and reference energy $E_0$ via,\n",
    "\n",
    "$$\n",
    "F(E) = \\frac{dN}{dE d\\Omega dt} = \\frac{F_\\nu}{E_0^2}\\left( \\frac{E_0}{E} \\right)^\\alpha.\n",
    "$$"
   ]
  },
  {
   "cell_type": "markdown",
   "id": "1359a412-d2b0-4c83-89a9-b9179eb2bb58",
   "metadata": {},
   "source": [
    "Given $F(E)$, the number of neutrinos observed in the IceCube detector is equal to,\n",
    "\n",
    "$$\n",
    "N_s = T \\int d\\Omega \\int dE' F(E') A_{eff}(E', \\delta),\n",
    "$$\n",
    "\n",
    "where $A_{eff}(E, \\delta)$ is the effective area of IceCube detector, related to the impulse response of the detector. For the purposes of the source class search, the integral is modified to equal,"
   ]
  },
  {
   "cell_type": "markdown",
   "id": "8af59cb8-28e7-45ac-af9d-a1f303446537",
   "metadata": {},
   "source": [
    "$$\n",
    "N_s = T F_\\nu E_0^{\\alpha-2} \\int d\\Omega \\int dE' E'^{-\\alpha} A_{eff}(E', \\delta).\n",
    "$$"
   ]
  },
  {
   "cell_type": "markdown",
   "id": "971a2bda-e8cc-4586-b35f-d46021401543",
   "metadata": {},
   "source": [
    "For a source class, the total number of neutrinos detected in IceCube is related to the number of neutrinos deposited by each source $i$ is equal to,\n",
    "\n",
    "$$\n",
    "n_{s, i} = N_s \\times \\frac{w_i(\\delta)}{\\sum_j w_j (\\delta)}.\n",
    "$$"
   ]
  }
 ],
 "metadata": {
  "kernelspec": {
   "display_name": "Python 3 (ipykernel)",
   "language": "python",
   "name": "python3"
  },
  "language_info": {
   "codemirror_mode": {
    "name": "ipython",
    "version": 3
   },
   "file_extension": ".py",
   "mimetype": "text/x-python",
   "name": "python",
   "nbconvert_exporter": "python",
   "pygments_lexer": "ipython3",
   "version": "3.9.5"
  }
 },
 "nbformat": 4,
 "nbformat_minor": 5
}
